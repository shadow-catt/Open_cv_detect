{
 "cells": [
  {
   "cell_type": "markdown",
   "id": "78cfb36c",
   "metadata": {},
   "source": [
    "参考网站\n",
    "\n",
    "https://www.bilibili.com/video/BV1Lq4y1Z7dm?p=13"
   ]
  },
  {
   "cell_type": "markdown",
   "id": "3903aef7",
   "metadata": {},
   "source": [
    "# 读取并且展示图象"
   ]
  },
  {
   "cell_type": "code",
   "execution_count": 1,
   "id": "bf29545a",
   "metadata": {
    "scrolled": true
   },
   "outputs": [
    {
     "data": {
      "text/plain": [
       "-1"
      ]
     },
     "execution_count": 1,
     "metadata": {},
     "output_type": "execute_result"
    }
   ],
   "source": [
    "#导入库\n",
    "import cv2 as cv\n",
    "#读取文件\n",
    "img = cv.imread(\"younger.jpg\")\n",
    "# 设置图片\n",
    "cv.namedWindow('result', cv.WINDOW_FREERATIO)\n",
    "# 显示图片\n",
    "cv.imshow('result',img)\n",
    "# 显示时长，括号里写的是显示的时长（0为一直）\n",
    "cv.waitKey(0)\n",
    "#释放内存\n",
    "cv.destroyAllWindows()"
   ]
  },
  {
   "cell_type": "markdown",
   "id": "b032b55b",
   "metadata": {},
   "source": [
    "# 显示灰度"
   ]
  },
  {
   "cell_type": "code",
   "execution_count": 5,
   "id": "40f83e54",
   "metadata": {},
   "outputs": [
    {
     "data": {
      "text/plain": [
       "-1"
      ]
     },
     "execution_count": 5,
     "metadata": {},
     "output_type": "execute_result"
    }
   ],
   "source": [
    "#导入库\n",
    "import cv2 as cv\n",
    "#读取文件\n",
    "img = cv.imread(\"younger.jpg\")\n",
    "# 灰度转换\n",
    "gray_img = cv.cvtColor(img,cv.COLOR_BGR2GRAY)\n",
    "# 保存灰度图片\n",
    "cv.imwrite('gray_facel1.jpg',gray_img)\n",
    "# 设置图片\n",
    "cv.namedWindow('read_img', cv.WINDOW_FREERATIO)\n",
    "#显示图片\n",
    "cv.imshow('read_img',img)\n",
    "# 显示时长，括号里写的是显示的时长（0为一直）\n",
    "cv.waitKey(0)\n",
    "#释放内存\n",
    "cv.destroyAllWindows()"
   ]
  },
  {
   "cell_type": "markdown",
   "id": "dee1b2bf",
   "metadata": {},
   "source": [
    "# 修改尺寸"
   ]
  },
  {
   "cell_type": "code",
   "execution_count": 3,
   "id": "b8be4ffc",
   "metadata": {
    "scrolled": true
   },
   "outputs": [
    {
     "name": "stdout",
     "output_type": "stream",
     "text": [
      "未修改:  (1228, 1840, 3)\n",
      "修改后:  (200, 200, 3)\n"
     ]
    }
   ],
   "source": [
    "# 导入cv模块\n",
    "import cv2 as cv\n",
    "# 读取图片\n",
    "img = cv.imread(\"younger.jpg\")\n",
    "# 修改尺寸\n",
    "resize_img = cv.resize(img,dsize=(200,200))\n",
    "# 显示原图\n",
    "cv.imshow(\"img\",img)\n",
    "\n",
    "# 显示修改后的\n",
    "cv.imshow(\"resize_img\",resize_img)\n",
    "\n",
    "#第一二个是尺寸，第三个是通道数，也就是RGB\n",
    "# 打印原图尺寸大小\n",
    "print(\"未修改: \",img.shape)\n",
    "\n",
    "# 打印修改后的大小\n",
    "print(\"修改后: \",resize_img.shape)\n",
    "\n",
    "# 等待\n",
    "while True:\n",
    "    #当检测到了q键被按下时退出图片浏览\n",
    "    if ord('q') == cv.waitKey(0):\n",
    "        print(\"Quit successfully\")\n",
    "        break\n",
    "\n",
    "# 释放内容\n",
    "cv.destroyAllWindows()"
   ]
  },
  {
   "cell_type": "markdown",
   "id": "d92ab039",
   "metadata": {},
   "source": [
    "# 绘制矩形"
   ]
  },
  {
   "cell_type": "code",
   "execution_count": 10,
   "id": "73297a02",
   "metadata": {},
   "outputs": [
    {
     "name": "stdout",
     "output_type": "stream",
     "text": [
      "quit successfully\n"
     ]
    }
   ],
   "source": [
    "# 导入cv模块\n",
    "import cv2 as cv\n",
    "# 读取图片\n",
    "img = cv.imread(\"younger.jpg\")\n",
    "\n",
    "# 修改尺寸（长，宽）\n",
    "img = cv.resize(img,dsize=(736,488))\n",
    "\n",
    "# 坐标\n",
    "x,y,w,h = 100,100,100,100\n",
    "\n",
    "# 绘制矩形 (四个参数：处理图片，画框的参数（起始点坐标，长，宽），颜色，线条粗细)\n",
    "cv.rectangle(img,(x,y,x+w,y+h),color=(0,0,255),thickness=1)\n",
    "# 绘制圆形（四个参数：处理图片，圆心，半径，颜色，线条粗细)\n",
    "cv.circle(img,center=(x+w,y+h),radius=100,color=(255,0,0),thickness=2)\n",
    "\n",
    "# 显示\n",
    "cv.imshow('re_img',img)\n",
    "# 等待\n",
    "while True:\n",
    "    #当检测到了q键被按下时退出图片浏览\n",
    "    if ord('q') == cv.waitKey(0):\n",
    "        print(\"Quit successfully\")\n",
    "        break\n",
    "\n",
    "# 释放内容\n",
    "cv.destroyAllWindows()"
   ]
  },
  {
   "cell_type": "markdown",
   "id": "565d76cd",
   "metadata": {},
   "source": [
    "# 人脸检测"
   ]
  },
  {
   "cell_type": "code",
   "execution_count": 1,
   "id": "a017a4aa",
   "metadata": {},
   "outputs": [
    {
     "name": "stdout",
     "output_type": "stream",
     "text": [
      "Quit successfully\n"
     ]
    }
   ],
   "source": [
    "# 导入cv模块\n",
    "import cv2 as cv\n",
    "\n",
    "# 检测函数\n",
    "def face_detect_demo(img):\n",
    "    # 生成灰度图\n",
    "    gray = cv.cvtColor(img,cv.COLOR_BGR2GRAY)\n",
    "    # 检测人脸（导入模型路径）\n",
    "    face_detect = cv.CascadeClassifier(r\"E:\\anaconda\\Lib\\site-packages\\opencv\\opencv\\sources\\data\\haarcascades\\haarcascade_frontalface_default.xml\")\n",
    "    \n",
    "    # 调用参数以后检测人脸\n",
    "    # 参数的各个变量（image（照片）,scaleFactor,minNeighbors,\n",
    "    #                 flags（不管）,minSize(最小的脸),maxSize(最大的脸)）\n",
    "    face = face_detect.detectMultiScale(gray,1.1,5)\n",
    "\n",
    "    # 画上框框\n",
    "    for x,y,w,h in face:\n",
    "        cv.rectangle(img,(x,y),(x+w,y+h),color=(0,0,255),thickness=2)\n",
    "    cv.imshow('result',img)\n",
    "    \n",
    "# 读取图片\n",
    "img = cv.imread(\"younger.jpg\")\n",
    "\n",
    "# 修改尺寸（长，宽）\n",
    "img = cv.resize(img,dsize=(736,488))\n",
    "\n",
    "face_detect_demo(img)\n",
    "\n",
    "# 等待\n",
    "while True:\n",
    "    #当检测到了q键被按下时退出图片浏览\n",
    "    if ord('q') == cv.waitKey(0):\n",
    "        print(\"Quit successfully\")\n",
    "        break\n",
    "\n",
    "# 释放内容\n",
    "cv.destroyAllWindows()"
   ]
  },
  {
   "cell_type": "markdown",
   "id": "1437827b",
   "metadata": {},
   "source": [
    "# 检测多个"
   ]
  },
  {
   "cell_type": "code",
   "execution_count": 3,
   "id": "a824832f",
   "metadata": {},
   "outputs": [
    {
     "name": "stdout",
     "output_type": "stream",
     "text": [
      "Quit successfully\n"
     ]
    }
   ],
   "source": [
    "# 和上面的内容一模一样\n",
    "# 导入cv模块\n",
    "import cv2 as cv\n",
    "\n",
    "# 检测函数\n",
    "def face_detect_demo(img):\n",
    "    # 生成灰度图\n",
    "    gray = cv.cvtColor(img,cv.COLOR_BGR2GRAY)\n",
    "    # 检测人脸（导入模型路径）\n",
    "    face_detect = cv.CascadeClassifier(r\"E:\\anaconda\\Lib\\site-packages\\opencv\\opencv\\sources\\data\\haarcascades\\haarcascade_frontalface_default.xml\")\n",
    "    \n",
    "    # 调用参数以后检测人脸\n",
    "    # 参数的各个变量（image（照片）,scaleFactor每次遍历后的缩放倍数,minNeighbors确认次数（几次都是后才显示）,\n",
    "    #                 flags（不管）,minSize(最小的脸大小),maxSize(最大的脸大小)）\n",
    "    face = face_detect.detectMultiScale(gray,1.1,5)\n",
    "\n",
    "    # 画上框框\n",
    "    for x,y,w,h in face:\n",
    "        cv.rectangle(img,(x,y),(x+w,y+h),color=(0,0,255),thickness=2)\n",
    "    cv.imshow('result',img)\n",
    "    \n",
    "# 读取图片\n",
    "img = cv.imread(\"younger.jpg\")\n",
    "\n",
    "# 修改尺寸（长，宽）\n",
    "img = cv.resize(img,dsize=(736,488))\n",
    "\n",
    "face_detect_demo(img)\n",
    "\n",
    "# 等待\n",
    "while True:\n",
    "    #当检测到了q键被按下时退出图片浏览\n",
    "    if ord('q') == cv.waitKey(0):\n",
    "        print(\"Quit successfully\")\n",
    "        break\n",
    "\n",
    "# 释放内容\n",
    "cv.destroyAllWindows()"
   ]
  },
  {
   "cell_type": "markdown",
   "id": "b6a47bdc",
   "metadata": {},
   "source": [
    "# 视频检测"
   ]
  },
  {
   "cell_type": "code",
   "execution_count": 15,
   "id": "5d194647",
   "metadata": {},
   "outputs": [
    {
     "name": "stdout",
     "output_type": "stream",
     "text": [
      "Quit successfully\n"
     ]
    }
   ],
   "source": [
    "# 导入库\n",
    "import cv2 as cv\n",
    "# 检测函数\n",
    "def face_detect_demo(img):\n",
    "    gray = cv.cvtColor(img,cv.COLOR_BGR2GRAY)\n",
    "    face_detect = cv.CascadeClassifier(r\"E:\\anaconda\\Lib\\site-packages\\opencv\\opencv\\sources\\data\\haarcascades\\haarcascade_frontalface_default.xml\")\n",
    "    face = face_detect.detectMultiScale(gray,1.1,5,0,(150,150),(600,600))\n",
    "    for x,y,w,h in face:\n",
    "        cv.rectangle(img,(x,y),(x+w,y+h),color=(0,0,255),thickness=2)\n",
    "    cv.imshow('result',img)\n",
    "\n",
    "# 读取摄像头\n",
    "cap = cv.VideoCapture(0)\n",
    "# 循环\n",
    "while True:\n",
    "    flag,frame = cap.read()\n",
    "    if not flag:\n",
    "        break\n",
    "    face_detect_demo(frame)\n",
    "    if ord('q') == cv.waitKey(1):\n",
    "        print(\"Quit successfully\")\n",
    "        break\n",
    "\n",
    "# 释放内存\n",
    "cv.destroyAllWindows()\n",
    "# 释放摄像头\n",
    "cap.release()"
   ]
  },
  {
   "cell_type": "markdown",
   "id": "5d67954b",
   "metadata": {},
   "source": [
    "# 拍照保存"
   ]
  },
  {
   "cell_type": "code",
   "execution_count": 4,
   "id": "401c25a1",
   "metadata": {},
   "outputs": [
    {
     "name": "stdout",
     "output_type": "stream",
     "text": [
      "exit successfully\n"
     ]
    }
   ],
   "source": [
    "# 导入库\n",
    "import cv2\n",
    "\n",
    "# 摄像头\n",
    "cap=cv2.VideoCapture(0)\n",
    "\n",
    "flag=1\n",
    "# 初始照片的序号\n",
    "num=1\n",
    "\n",
    "# 检测摄像头是否在开启状态\n",
    "while(cap.isOpened()):\n",
    "    # 得到每帧的图像\n",
    "    ret_flag,Vshow = cap.read()\n",
    "    # 显示图像\n",
    "    cv2.imshow(\"Capture_Test\",Vshow)\n",
    "    # 按键判断\n",
    "    k = cv2.waitKey(1) & 0xFF\n",
    "    #保存图片\n",
    "    if k == ord('s'):\n",
    "        cv2.imwrite(\"C:/Users/Lenovo/jupyter/CV/picture_save/\"+str(num)+\".Justin\"+\".jpg\",Vshow)\n",
    "        print(\"success to save\"+str(num)+\".jpg\")\n",
    "        print(\"------------------------\")\n",
    "        num += 1\n",
    "    # 退出程序\n",
    "    elif k == ord(' '):\n",
    "        print(\"exit successfully\")\n",
    "        break\n",
    "\n",
    "# 释放内存\n",
    "cv2.destroyAllWindows()\n",
    "# 释放摄像头\n",
    "cap.release()"
   ]
  },
  {
   "cell_type": "markdown",
   "id": "b773571a",
   "metadata": {},
   "source": [
    "# 训练数据"
   ]
  },
  {
   "cell_type": "code",
   "execution_count": 2,
   "id": "90c10f52",
   "metadata": {},
   "outputs": [
    {
     "name": "stdout",
     "output_type": "stream",
     "text": [
      "数据排列： ['./data/jm/1.lena.jpg', './data/jm/2.Justin.jpg']\n",
      "id: 1\n",
      "id: 2\n",
      "fs: [array([[ 61,  94, 130, ...,  56,  42,  37],\n",
      "       [ 97, 114, 133, ...,  40,  38,  43],\n",
      "       [ 87, 113, 125, ...,  44,  36,  42],\n",
      "       ...,\n",
      "       [ 66,  57,  56, ..., 145, 143, 147],\n",
      "       [ 69,  64,  55, ..., 140, 139, 151],\n",
      "       [ 64,  63,  55, ..., 136, 140, 154]], dtype=uint8), array([[147, 144, 144, ..., 147, 147, 147],\n",
      "       [147, 143, 142, ..., 147, 147, 147],\n",
      "       [147, 144, 145, ..., 146, 147, 147],\n",
      "       ...,\n",
      "       [144, 154, 171, ...,  80,  81,  82],\n",
      "       [138, 156, 171, ...,  79,  80,  80],\n",
      "       [137, 158, 171, ...,  82,  81,  80]], dtype=uint8)]\n"
     ]
    }
   ],
   "source": [
    "import os\n",
    "import cv2\n",
    "import sys\n",
    "from PIL import Image\n",
    "import numpy as np\n",
    "\n",
    "def getImageAndLabels(path):\n",
    "    facesSamples=[]\n",
    "    ids=[]\n",
    "    imagePaths=[os.path.join(path,f) for f in os.listdir(path)]\n",
    "    #检测人脸\n",
    "    face_detector = cv2.CascadeClassifier(r\"E:\\anaconda\\Lib\\site-packages\\opencv\\opencv\\sources\\data\\haarcascades\\haarcascade_frontalface_default.xml\")\n",
    "    #打印数组imagePaths\n",
    "    print('数据排列：',imagePaths)\n",
    "    #遍历列表中的图片\n",
    "    for imagePath in imagePaths:\n",
    "        #打开图片,黑白化\n",
    "        PIL_img=Image.open(imagePath).convert('L')\n",
    "        #将图像转换为数组，以黑白深浅\n",
    "       # PIL_img = cv2.resize(PIL_img, dsize=(400, 400))\n",
    "        img_numpy=np.array(PIL_img,'uint8')\n",
    "        #获取图片人脸特征\n",
    "        faces = face_detector.detectMultiScale(img_numpy)\n",
    "        #获取每张图片的id和姓名\n",
    "        id = int(os.path.split(imagePath)[1].split('.')[0])\n",
    "        #预防无面容照片\n",
    "        for x,y,w,h in faces:\n",
    "            ids.append(id)\n",
    "            facesSamples.append(img_numpy[y:y+h,x:x+w])\n",
    "        #打印脸部特征和id\n",
    "        #print('fs:', facesSamples)\n",
    "        print('id:', id)\n",
    "        #print('fs:', facesSamples[id])\n",
    "    print('fs:', facesSamples)\n",
    "    #print('脸部例子：',facesSamples[0])\n",
    "    #print('身份信息：',ids[0])\n",
    "    return facesSamples,ids\n",
    "\n",
    "if __name__ == '__main__':\n",
    "    #图片路径\n",
    "    path='./data/jm/'\n",
    "    #获取图像数组和id标签数组和姓名\n",
    "    faces,ids=getImageAndLabels(path)\n",
    "    #获取训练对象\n",
    "    recognizer=cv2.face.LBPHFaceRecognizer_create()\n",
    "    #recognizer.train(faces,names)#np.array(ids)\n",
    "    recognizer.train(faces,np.array(ids))\n",
    "    #保存文件\n",
    "    recognizer.write('trainer/trainer.yml')\n",
    "    #save_to_file('names.txt',names)"
   ]
  },
  {
   "cell_type": "markdown",
   "id": "214f12c4",
   "metadata": {},
   "source": [
    "# 人脸识别"
   ]
  },
  {
   "cell_type": "code",
   "execution_count": null,
   "id": "4d39cab9",
   "metadata": {},
   "outputs": [],
   "source": [
    "# 源码\n",
    "import cv2\n",
    "import numpy as np\n",
    "import os\n",
    "# coding=utf-8\n",
    "import urllib\n",
    "import urllib.request\n",
    "import hashlib\n",
    "\n",
    "#加载训练数据集文件\n",
    "recogizer=cv2.face.LBPHFaceRecognizer_create()\n",
    "recogizer.read('trainer/trainer.yml')\n",
    "names=[]\n",
    "warningtime = 0\n",
    "\n",
    "def md5(str):\n",
    "    import hashlib\n",
    "    m = hashlib.md5()\n",
    "    m.update(str.encode(\"utf8\"))\n",
    "    return m.hexdigest()\n",
    "\n",
    "statusStr = {\n",
    "    '0': '短信发送成功',\n",
    "    '-1': '参数不全',\n",
    "    '-2': '服务器空间不支持,请确认支持curl或者fsocket,联系您的空间商解决或者更换空间',\n",
    "    '30': '密码错误',\n",
    "    '40': '账号不存在',\n",
    "    '41': '余额不足',\n",
    "    '42': '账户已过期',\n",
    "    '43': 'IP地址限制',\n",
    "    '50': '内容含有敏感词'\n",
    "}\n",
    "\n",
    "\n",
    "def warning():\n",
    "    smsapi = \"http://api.smsbao.com/\"\n",
    "    # 短信平台账号\n",
    "    user = '13******10'\n",
    "    # 短信平台密码\n",
    "    password = md5('*******')\n",
    "    # 要发送的短信内容\n",
    "    content = '【报警】\\n原因：检测到未知人员\\n地点：xxx'\n",
    "    # 要发送短信的手机号码\n",
    "    phone = '*******'\n",
    "\n",
    "    data = urllib.parse.urlencode({'u': user, 'p': password, 'm': phone, 'c': content})\n",
    "    send_url = smsapi + 'sms?' + data\n",
    "    response = urllib.request.urlopen(send_url)\n",
    "    the_page = response.read().decode('utf-8')\n",
    "    print(statusStr[the_page])\n",
    "\n",
    "#准备识别的图片\n",
    "def face_detect_demo(img):\n",
    "    gray=cv2.cvtColor(img,cv2.COLOR_BGR2GRAY)#转换为灰度\n",
    "    face_detector=cv2.CascadeClassifier(r\"E:\\anaconda\\Lib\\site-packages\\opencv\\opencv\\sources\\data\\haarcascades\\haarcascade_frontalface_default.xml\")\n",
    "    face=face_detector.detectMultiScale(gray,1.1,5,cv2.CASCADE_SCALE_IMAGE,(100,100),(300,300))\n",
    "    #face=face_detector.detectMultiScale(gray)\n",
    "    for x,y,w,h in face:\n",
    "        cv2.rectangle(img,(x,y),(x+w,y+h),color=(0,0,255),thickness=2)\n",
    "        cv2.circle(img,center=(x+w//2,y+h//2),radius=w//2,color=(0,255,0),thickness=1)\n",
    "        # 人脸识别\n",
    "        ids, confidence = recogizer.predict(gray[y:y + h, x:x + w])\n",
    "        #print('标签id:',ids,'置信评分：', confidence)\n",
    "        if confidence > 80:\n",
    "            global warningtime\n",
    "            warningtime += 1\n",
    "            if warningtime > 100:\n",
    "               warning()\n",
    "               warningtime = 0\n",
    "            cv2.putText(img, 'unkonw', (x + 10, y - 10), cv2.FONT_HERSHEY_SIMPLEX, 0.75, (0, 255, 0), 1)\n",
    "        else:\n",
    "            cv2.putText(img,str(names[ids-1]), (x + 10, y - 10), cv2.FONT_HERSHEY_SIMPLEX, 0.75, (0, 255, 0), 1)\n",
    "    cv2.imshow('result',img)\n",
    "    #print('bug:',ids)\n",
    "\n",
    "def name():\n",
    "    path = './data/jm/'\n",
    "    #names = []\n",
    "    imagePaths=[os.path.join(path,f) for f in os.listdir(path)]\n",
    "    for imagePath in imagePaths:\n",
    "       name = str(os.path.split(imagePath)[1].split('.',2)[1])\n",
    "       names.append(name)\n",
    "\n",
    "\n",
    "cap=cv2.VideoCapture('1.mp4')\n",
    "name()\n",
    "while True:\n",
    "    flag,frame=cap.read()\n",
    "    if not flag:\n",
    "        break\n",
    "    face_detect_demo(frame)\n",
    "    if ord(' ') == cv2.waitKey(10):\n",
    "        break\n",
    "cv2.destroyAllWindows()\n",
    "cap.release()\n",
    "#print(names)\n"
   ]
  },
  {
   "cell_type": "code",
   "execution_count": 8,
   "id": "82df45fb",
   "metadata": {},
   "outputs": [],
   "source": [
    "#经过改动，由视频转为摄像头\n",
    "import cv2\n",
    "import numpy as np\n",
    "import os\n",
    "# coding=utf-8\n",
    "import urllib\n",
    "import urllib.request\n",
    "import hashlib\n",
    "\n",
    "#加载训练数据集文件\n",
    "recogizer=cv2.face.LBPHFaceRecognizer_create()\n",
    "recogizer.read('trainer/trainer.yml')\n",
    "names=[]\n",
    "warningtime = 0\n",
    "\n",
    "#准备识别的图片\n",
    "def face_detect_demo(img):\n",
    "    #转换为灰度\n",
    "    gray=cv2.cvtColor(img,cv2.COLOR_BGR2GRAY)\n",
    "    #加载分类器\n",
    "    face_detector=cv2.CascadeClassifier(r\"E:\\anaconda\\Lib\\site-packages\\opencv\\opencv\\sources\\data\\haarcascades\\haarcascade_frontalface_default.xml\")\n",
    "    #找脸\n",
    "    face=face_detector.detectMultiScale(gray,1.1,5,cv2.CASCADE_SCALE_IMAGE,(100,100),(300,300))\n",
    "    #face=face_detector.detectMultiScale(gray)\n",
    "    #找到对应的位置画上框框\n",
    "    for x,y,w,h in face:\n",
    "        cv2.rectangle(img,(x,y),(x+w,y+h),color=(0,0,255),thickness=2)\n",
    "        #cv2.circle(img,center=(x+w//2,y+h//2),radius=w//2,color=(0,255,0),thickness=1)\n",
    "        # 人脸识别\n",
    "        ids, confidence = recogizer.predict(gray[y:y + h, x:x + w])\n",
    "        #print('标签id:',ids,'置信评分：', confidence)\n",
    "        if confidence > 80:\n",
    "            global warningtime\n",
    "            warningtime += 1\n",
    "            #次数过多也就是停留时间过长\n",
    "            if warningtime > 100:\n",
    "               #发出警告，这个人不是我们的人\n",
    "                print(\"该人不认识\")\n",
    "                warningtime = 0\n",
    "            cv2.putText(img, 'unknow', (x + 10, y - 10), cv2.FONT_HERSHEY_SIMPLEX, 0.75, (0, 255, 0), 1)\n",
    "        else:\n",
    "            cv2.putText(img,str(names[ids-1]), (x + 10, y - 10), cv2.FONT_HERSHEY_SIMPLEX, 0.75, (0, 255, 0), 1)\n",
    "    # 展示所需图片\n",
    "    cv2.imshow('result',img)\n",
    "    #print('bug:',ids)\n",
    "\n",
    "# 录入图片名字的内容\n",
    "def name():\n",
    "    path = './data/jm/'\n",
    "    #names = []\n",
    "    #找到图片路径\n",
    "    imagePaths=[os.path.join(path,f) for f in os.listdir(path)]\n",
    "    for imagePath in imagePaths:\n",
    "        name = str(os.path.split(imagePath)[1].split('.',2)[1])\n",
    "        names.append(name)\n",
    "\n",
    "\n",
    "#获取视频or图片\n",
    "cap=cv2.VideoCapture(0)\n",
    "# 录入图片名称中名字的内容\n",
    "name()\n",
    "while True:\n",
    "    flag,frame=cap.read()\n",
    "    if not flag:\n",
    "        break\n",
    "    face_detect_demo(frame)\n",
    "    if ord(' ') == cv2.waitKey(10):\n",
    "        break\n",
    "cv2.destroyAllWindows()\n",
    "cap.release()\n",
    "#print(names)\n"
   ]
  },
  {
   "cell_type": "markdown",
   "id": "7f2fcbb6",
   "metadata": {},
   "source": [
    "# 网页视频"
   ]
  },
  {
   "cell_type": "markdown",
   "id": "32667c07",
   "metadata": {},
   "source": [
    "电视节目rtmp推流地址搜集：\n",
    "https://www.cnblogs.com/kiter/p/14599472.html"
   ]
  },
  {
   "cell_type": "code",
   "execution_count": 14,
   "id": "bb9b89d1",
   "metadata": {},
   "outputs": [
    {
     "name": "stdout",
     "output_type": "stream",
     "text": [
      "no\n"
     ]
    }
   ],
   "source": [
    "import cv2\n",
    "\n",
    "class CaptureVideo(object):\n",
    "    def net_video(self):\n",
    "        # 获取网络视频流\n",
    "        #cam = cv2.VideoCapture(\"rtmp://192.168.0.10/live/test\")\n",
    "        cam = cv2.VideoCapture(\"rtmp://58.200.131.2:1935/livetv/hunantv\")\n",
    "        if cam.isOpened():\n",
    "            print(\"ok\")\n",
    "        else:\n",
    "            print(\"no\")\n",
    "        while cam.isOpened():\n",
    "            success, frame = cam.read()\n",
    "            cv2.imshow(\"Network\", frame)\n",
    "            cv2.waitKey(1)\n",
    "if __name__ == \"__main__\":\n",
    "    capture_video = CaptureVideo()\n",
    "    capture_video.net_video()"
   ]
  },
  {
   "cell_type": "markdown",
   "id": "36d1bd4d",
   "metadata": {},
   "source": [
    "# mediapipe进行人脸识别"
   ]
  },
  {
   "cell_type": "code",
   "execution_count": 2,
   "id": "4ff09f58",
   "metadata": {},
   "outputs": [
    {
     "name": "stdout",
     "output_type": "stream",
     "text": [
      "Nose coordinates: (347.0411376953125，230.31153917312622)\n"
     ]
    }
   ],
   "source": [
    "# 导入库\n",
    "import cv2\n",
    "import mediapipe as mp\n",
    "mp_drawing = mp.solutions.drawing_utils\n",
    "mp_holistic = mp.solutions.holistic\n",
    "\n",
    "file = 'younger.jpg'\n",
    "holistic = mp_holistic.Holistic(static_image_mode=True)\n",
    "\n",
    "image = cv2.imread(file)\n",
    "image = cv2.resize(image,dsize=(736,488))\n",
    "\n",
    "image_hight, image_width, _ = image.shape\n",
    "image = cv2.cvtColor(image, cv2.COLOR_BGR2RGB)\n",
    "results = holistic.process(image)\n",
    "\n",
    "if results.pose_landmarks:\n",
    "    print(f'Nose coordinates: ('f'{results.pose_landmarks.landmark[mp_holistic.PoseLandmark.NOSE].x * image_width}，'f'{results.pose_landmarks.landmark[mp_holistic.PoseLandmark.NOSE].y * image_hight})')\n",
    "\n",
    "annotated_image = image.copy()\n",
    "mp_drawing.draw_landmarks(annotated_image, results.face_landmarks, mp_holistic.FACEMESH_CONTOURS)\n",
    "mp_drawing.draw_landmarks(annotated_image, results.left_hand_landmarks, mp_holistic.HAND_CONNECTIONS)\n",
    "mp_drawing.draw_landmarks(annotated_image, results.right_hand_landmarks, mp_holistic.HAND_CONNECTIONS)\n",
    "mp_drawing.draw_landmarks(annotated_image, results.pose_landmarks, mp_holistic.POSE_CONNECTIONS)\n",
    "\n",
    "cv2.imshow('annotated_image',annotated_image)\n",
    "#cv2.imwrite('4.png', annotated_image)\n",
    "cv2.waitKey(0)\n",
    "holistic.close()"
   ]
  },
  {
   "cell_type": "markdown",
   "id": "b67db926",
   "metadata": {},
   "source": [
    "# 在照片左上角展示内容"
   ]
  },
  {
   "cell_type": "code",
   "execution_count": 3,
   "id": "9353425a",
   "metadata": {},
   "outputs": [
    {
     "name": "stdout",
     "output_type": "stream",
     "text": [
      "Quit successfully\n"
     ]
    }
   ],
   "source": [
    "# 导入cv模块\n",
    "import cv2 as cv\n",
    "\n",
    "# 检测函数\n",
    "def face_detect_demo(img):\n",
    "    # 生成灰度图\n",
    "    gray = cv.cvtColor(img,cv.COLOR_BGR2GRAY)\n",
    "    # 检测人脸（导入模型路径）\n",
    "    face_detect = cv.CascadeClassifier(r\"E:\\anaconda\\Lib\\site-packages\\opencv\\opencv\\sources\\data\\haarcascades\\haarcascade_frontalface_default.xml\")\n",
    "    \n",
    "    # 调用参数以后检测人脸\n",
    "    # 参数的各个变量（image（照片）,scaleFactor,minNeighbors,\n",
    "    #                 flags（不管）,minSize(最小的脸),maxSize(最大的脸)）\n",
    "    face = face_detect.detectMultiScale(gray,1.1,5)\n",
    "\n",
    "    # 画上框框\n",
    "    for x,y,w,h in face:\n",
    "        cv.rectangle(img,(x,y),(x+w,y+h),color=(0,0,255),thickness=2)\n",
    "    cv.imshow('result',img)\n",
    "    \n",
    "# 读取图片\n",
    "img = cv.imread(\"younger.jpg\")\n",
    "\n",
    "#读取要附上去的第二张图片\n",
    "img2=cv.imread(\"happy.png\")\n",
    "\n",
    "# 修改尺寸（长，宽）\n",
    "img = cv.resize(img,dsize=(736,488))\n",
    "\n",
    "face_detect_demo(img)\n",
    "\n",
    "# 等待\n",
    "while True:\n",
    "    #当检测到了q键被按下时退出图片浏览\n",
    "    if ord('q') == cv.waitKey(0):\n",
    "        print(\"Quit successfully\")\n",
    "        break\n",
    "\n",
    "# 释放内容\n",
    "cv.destroyAllWindows()"
   ]
  },
  {
   "cell_type": "code",
   "execution_count": null,
   "id": "1a44d928",
   "metadata": {},
   "outputs": [],
   "source": [
    "# 导入cv模块\n",
    "import cv2\n",
    "\n",
    "img1 = cv2.imread(\"younger.jpg\")\n",
    "img2 = cv2.imread(\"hb.jpg\")\n",
    "# 这里缩小方式用了特殊的技巧\n",
    "img2 = cv2.resize(img2,(200,200),cv2.INTER_AREA)\n",
    " \n",
    "# I want to put logo on top-left corner, So I create a ROI\n",
    "#首先获取原始图像roi\n",
    "rows,cols,channels = img2.shape\n",
    "roi = img1[0:rows, 0:cols ]\n",
    " \n",
    "#原始图像转化为灰度值\n",
    "# Now create a mask of logo and create its inverse mask also\n",
    "img2gray = cv2.cvtColor(img2,cv2.COLOR_BGR2GRAY)\n",
    " \n",
    "cv2.imshow('img2gray',img2gray)\n",
    "cv2.waitKey(0)\n",
    "'''\n",
    "将一个灰色的图片，变成要么是白色要么就是黑色。（大于规定thresh值就是设置的最大值（常为255，也就是白色））\n",
    "'''\n",
    "#将灰度值二值化，得到ROI区域掩模\n",
    "ret, mask = cv2.threshold(img2gray, 200, 255, cv2.THRESH_BINARY)\n",
    " \n",
    "cv2.imshow('mask',mask)\n",
    "cv2.waitKey(0)\n",
    " \n",
    "#ROI掩模区域反向掩模\n",
    "mask_inv = cv2.bitwise_not(mask)\n",
    " \n",
    "cv2.imshow('mask_inv',mask_inv)\n",
    "cv2.waitKey(0)\n",
    " \n",
    "#掩模显示背景\n",
    "# Now black-out the area of logo in ROI\n",
    "img1_bg = cv2.bitwise_and(roi,roi,mask = mask)\n",
    " \n",
    "cv2.imshow('img1_bg',img1_bg)\n",
    "cv2.waitKey(0)\n",
    " \n",
    "#掩模显示前景\n",
    "# Take only region of logo from logo image.\n",
    "img2_fg = cv2.bitwise_and(img2,img2,mask = mask_inv)\n",
    "cv2.imshow('img2_fg',img2_fg)\n",
    "cv2.waitKey(0)\n",
    " \n",
    "#前背景图像叠加\n",
    "# Put logo in ROI and modify the main image\n",
    "dst = cv2.add(img1_bg,img2_fg)\n",
    "img1[0:rows, 0:cols ] = dst\n",
    " \n",
    "cv2.imshow('res',img1)\n",
    "cv2.waitKey(0)\n",
    "cv2.destroyAllWindows()\n",
    " \n",
    " \n",
    "img1[0:rows, 0:cols ] = dst\n",
    " \n",
    "cv2.imshow('res',img1)\n",
    "cv2.waitKey(0)\n",
    "cv2.destroyAllWindows()"
   ]
  },
  {
   "cell_type": "code",
   "execution_count": null,
   "id": "04dcfaad",
   "metadata": {},
   "outputs": [],
   "source": []
  }
 ],
 "metadata": {
  "kernelspec": {
   "display_name": "Python 3",
   "language": "python",
   "name": "python3"
  },
  "language_info": {
   "codemirror_mode": {
    "name": "ipython",
    "version": 3
   },
   "file_extension": ".py",
   "mimetype": "text/x-python",
   "name": "python",
   "nbconvert_exporter": "python",
   "pygments_lexer": "ipython3",
   "version": "3.8.8"
  }
 },
 "nbformat": 4,
 "nbformat_minor": 5
}
